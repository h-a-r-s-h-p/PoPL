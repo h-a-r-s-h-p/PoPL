{
  "nbformat": 4,
  "nbformat_minor": 0,
  "metadata": {
    "colab": {
      "name": "pytorch.ipynb",
      "provenance": [],
      "authorship_tag": "ABX9TyP88gqpPz98974FkY39zz9E",
      "include_colab_link": true
    },
    "kernelspec": {
      "name": "python3",
      "display_name": "Python 3"
    }
  },
  "cells": [
    {
      "cell_type": "markdown",
      "metadata": {
        "id": "view-in-github",
        "colab_type": "text"
      },
      "source": [
        "<a href=\"https://colab.research.google.com/github/h-a-r-s-h-p/Pytorch/blob/master/linear%20Regression.ipynb\" target=\"_parent\"><img src=\"https://colab.research.google.com/assets/colab-badge.svg\" alt=\"Open In Colab\"/></a>"
      ]
    },
    {
      "cell_type": "code",
      "metadata": {
        "colab": {
          "base_uri": "https://localhost:8080/"
        },
        "id": "QtIW9GgqiU84",
        "outputId": "d1344efe-3390-4ea8-8a3e-876177521a4d"
      },
      "source": [
        "# Linear Regression without optim and dataloader\r\n",
        "\r\n",
        "\r\n",
        "import torch, torchvision\r\n",
        "import numpy as np\r\n",
        "inputs=torch.tensor([[73.0,67,43],\r\n",
        "       [91,88,64],\r\n",
        "       [87,134,58],\r\n",
        "       [102,43,37],\r\n",
        "       [69,96,70]])\r\n",
        "targets=torch.tensor([[56.0,70],\r\n",
        "                      [81,101],\r\n",
        "                      [119,133],\r\n",
        "                      [22,37],\r\n",
        "                      [103,119]])\r\n",
        "# print(inputs)\r\n",
        "# print(targets)\r\n",
        "weights=torch.randn(2,3,requires_grad=True)\r\n",
        "bias=torch.randn(2,requires_grad=True)\r\n",
        "# print(\"weights= \",weights)\r\n",
        "# print(\"weights transpose= \",weights.T)\r\n",
        "def rms(pred):\r\n",
        "  diff=pred-targets\r\n",
        "  return torch.sqrt(torch.sum(diff*diff)/pred.numel())\r\n",
        "\r\n",
        "\r\n",
        "for epoch in range(2000):\r\n",
        "    pred=inputs@(weights.T)+bias\r\n",
        "    error=rms(pred)\r\n",
        "    error.backward()\r\n",
        "    with torch.no_grad():\r\n",
        "        weights-=weights.grad*0.0001\r\n",
        "        bias-=bias.grad*0.0001\r\n",
        "        weights.grad.zero_()\r\n",
        "        bias.grad.zero_()\r\n",
        "pred=inputs@weights.T+bias\r\n",
        "print(\"targets= \",targets)\r\n",
        "print(\"predictions= \",pred)\r\n",
        "print(\"rms= \",rms(pred))"
      ],
      "execution_count": null,
      "outputs": [
        {
          "output_type": "stream",
          "text": [
            "targets=  tensor([[ 56.,  70.],\n",
            "        [ 81., 101.],\n",
            "        [119., 133.],\n",
            "        [ 22.,  37.],\n",
            "        [103., 119.]])\n",
            "predictions=  tensor([[ 66.2267,  72.9874],\n",
            "        [ 61.2039, 108.5132],\n",
            "        [151.8900, 110.8151],\n",
            "        [ 71.7962,  53.1780],\n",
            "        [ 35.6286, 123.3527]], grad_fn=<AddBackward0>)\n",
            "rms=  tensor(30.7165, grad_fn=<SqrtBackward>)\n"
          ],
          "name": "stdout"
        }
      ]
    },
    {
      "cell_type": "code",
      "metadata": {
        "id": "etKDYyDmVaL7"
      },
      "source": [
        "import torch\r\n",
        "import numpy as np\r\n",
        "import torch.nn as nn\r\n",
        "import matplotlib.pyplot as plt"
      ],
      "execution_count": 4,
      "outputs": []
    },
    {
      "cell_type": "code",
      "metadata": {
        "colab": {
          "base_uri": "https://localhost:8080/",
          "height": 330
        },
        "id": "xDMDvONQeKKw",
        "outputId": "49bebf0e-5755-42f1-83c0-9891d9a2b91a"
      },
      "source": [
        "#Linear regression with optim and dataloader\r\n",
        "\r\n",
        "inputs=torch.tensor([[73.0,67,43],\r\n",
        "                     [91,88,64],\r\n",
        "                     [87,134,58],\r\n",
        "                     [102,43,37],\r\n",
        "                     [69,96,70],\r\n",
        "                     [73.0,67,43],\r\n",
        "                     [91,88,64],\r\n",
        "                     [87,134,58],\r\n",
        "                     [102,43,37],\r\n",
        "                     [69,96,70],\r\n",
        "                     [73.0,67,43],\r\n",
        "                     [91,88,64],\r\n",
        "                     [87,134,58],\r\n",
        "                     [102,43,37],\r\n",
        "                     [69,96,70]])\r\n",
        "\r\n",
        "targets=torch.tensor([[56.0,70],\r\n",
        "                      [81,101],\r\n",
        "                      [119,133],\r\n",
        "                      [22,37],\r\n",
        "                      [103,119],\r\n",
        "                      [56.0,70],\r\n",
        "                      [81,101],\r\n",
        "                      [119,133],\r\n",
        "                      [22,37],\r\n",
        "                      [103,119],\r\n",
        "                      [56.0,70],\r\n",
        "                      [81,101],\r\n",
        "                      [119,133],\r\n",
        "                      [22,37],\r\n",
        "                      [103,119]])\r\n",
        "\r\n",
        "from torch.utils.data import TensorDataset\r\n",
        "from torch.utils.data import DataLoader\r\n",
        "import torch.nn.functional as F\r\n",
        "\r\n",
        "train_tds=TensorDataset(inputs,targets)\r\n",
        "# print(train_tds[:3])\r\n",
        "\r\n",
        "train_dl=DataLoader(train_tds,5,shuffle=True)\r\n",
        "# for xt,yt in train_dl:\r\n",
        "#     print(xt)\r\n",
        "#     print(yt)\r\n",
        "\r\n",
        "model=nn.Linear(3,2)\r\n",
        "print(model.weight)\r\n",
        "loss_fn=F.mse_loss\r\n",
        "opt=torch.optim.SGD(model.parameters(),1e-5)\r\n",
        "# loss=loss_fn(model(inputs),targets)\r\n",
        "# print(loss)\r\n",
        "for epochs in range(100):\r\n",
        "    for xb,yb in train_dl:\r\n",
        "        pred=model(xb)\r\n",
        "        loss=loss_fn(pred,yb)\r\n",
        "        loss.backward()\r\n",
        "        opt.step()\r\n",
        "        opt.zero_grad()\r\n",
        "    plt.scatter(epochs,loss.item())\r\n",
        "plt.xlabel(\"epoch no.\")\r\n",
        "plt.ylabel(\" error \")\r\n",
        "plt.show()\r\n"
      ],
      "execution_count": 6,
      "outputs": [
        {
          "output_type": "stream",
          "text": [
            "Parameter containing:\n",
            "tensor([[ 0.5682,  0.2972, -0.1591],\n",
            "        [ 0.5006,  0.2687, -0.4479]], requires_grad=True)\n"
          ],
          "name": "stdout"
        },
        {
          "output_type": "display_data",
          "data": {
            "image/png": "[encoded data removed]",
            "text/plain": [
              "<Figure size 432x288 with 1 Axes>"
            ]
          },
          "metadata": {
            "tags": [],
            "needs_background": "light"
          }
        }
      ]
    },
    {
      "cell_type": "code",
      "metadata": {
        "colab": {
          "base_uri": "https://localhost:8080/"
        },
        "id": "qmLR6s1UeFsO",
        "outputId": "96794feb-de1d-49fb-b8ac-3b385209c9e3"
      },
      "source": [
        "pred=model(inputs)\r\n",
        "print(targets)\r\n",
        "print(pred)"
      ],
      "execution_count": null,
      "outputs": [
        {
          "output_type": "stream",
          "text": [
            "tensor([[ 56.,  70.],\n",
            "        [ 81., 101.],\n",
            "        [119., 133.],\n",
            "        [ 22.,  37.],\n",
            "        [103., 119.],\n",
            "        [ 56.,  70.],\n",
            "        [ 81., 101.],\n",
            "        [119., 133.],\n",
            "        [ 22.,  37.],\n",
            "        [103., 119.],\n",
            "        [ 56.,  70.],\n",
            "        [ 81., 101.],\n",
            "        [119., 133.],\n",
            "        [ 22.,  37.],\n",
            "        [103., 119.]])\n",
            "tensor([[ 57.8042,  71.8871],\n",
            "        [ 82.8208, 101.1777],\n",
            "        [116.2753, 128.9562],\n",
            "        [ 24.2515,  46.8886],\n",
            "        [101.2517, 114.1775],\n",
            "        [ 57.8042,  71.8871],\n",
            "        [ 82.8208, 101.1777],\n",
            "        [116.2753, 128.9562],\n",
            "        [ 24.2515,  46.8886],\n",
            "        [101.2517, 114.1775],\n",
            "        [ 57.8042,  71.8871],\n",
            "        [ 82.8208, 101.1777],\n",
            "        [116.2753, 128.9562],\n",
            "        [ 24.2515,  46.8886],\n",
            "        [101.2517, 114.1775]], grad_fn=<AddmmBackward>)\n"
          ],
          "name": "stdout"
        }
      ]
    },
    {
      "cell_type": "code",
      "metadata": {
        "colab": {
          "base_uri": "https://localhost:8080/"
        },
        "id": "nFtS4XoNif7w",
        "outputId": "c5424720-ba89-40d0-92d9-b410604e005e"
      },
      "source": [
        "model(torch.tensor([[75,63,44.]]))"
      ],
      "execution_count": null,
      "outputs": [
        {
          "output_type": "execute_result",
          "data": {
            "text/plain": [
              "tensor([[54.6434, 69.6568]], grad_fn=<AddmmBackward>)"
            ]
          },
          "metadata": {
            "tags": []
          },
          "execution_count": 20
        }
      ]
    },
    {
      "cell_type": "code",
      "metadata": {
        "id": "c4jqtbKEtWLF"
      },
      "source": [
        ""
      ],
      "execution_count": null,
      "outputs": []
    }
  ]
}