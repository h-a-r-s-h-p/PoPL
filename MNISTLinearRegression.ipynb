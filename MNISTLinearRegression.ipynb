{
  "nbformat": 4,
  "nbformat_minor": 0,
  "metadata": {
    "colab": {
      "name": "Untitled1.ipynb",
      "provenance": [],
      "authorship_tag": "ABX9TyPcQEvHu5L0UvdjDe+bH7lQ",
      "include_colab_link": true
    },
    "kernelspec": {
      "name": "python3",
      "display_name": "Python 3"
    }
  },
  "cells": [
    {
      "cell_type": "markdown",
      "metadata": {
        "id": "view-in-github",
        "colab_type": "text"
      },
      "source": [
        "<a href=\"https://colab.research.google.com/github/h-a-r-s-h-p/Pytorch/blob/master/MNISTLinearRegression.ipynb\" target=\"_parent\"><img src=\"https://colab.research.google.com/assets/colab-badge.svg\" alt=\"Open In Colab\"/></a>"
      ]
    },
    {
      "cell_type": "code",
      "metadata": {
        "id": "hu8fZ3bVm6Aa"
      },
      "source": [
        "import numpy as np\r\n",
        "import torch, torchvision\r\n",
        "import torch.nn as nn\r\n",
        "from torchvision.datasets import MNIST\r\n",
        "import matplotlib.pyplot as plt\r\n",
        "%matplotlib inline\r\n",
        "import torchvision.transforms as transforms\r\n",
        "from torch.utils.data import random_split\r\n",
        "from torch.utils.data import DataLoader"
      ],
      "execution_count": 13,
      "outputs": []
    },
    {
      "cell_type": "code",
      "metadata": {
        "colab": {
          "base_uri": "https://localhost:8080/",
          "height": 282
        },
        "id": "eg4tGuYfpULq",
        "outputId": "5459038d-7414-4928-8d82-36bb1148a9ec"
      },
      "source": [
        "dataset=MNIST(root='data/',train=True,transform=transforms.ToTensor())\r\n",
        "\r\n",
        "test_dataset=MNIST(root='data/',train=False,transform=transforms.ToTensor())\r\n",
        "# plt.imshow(dataset[0][0][0,15:20,15:20],cmap='gray')\r\n"
      ],
      "execution_count": 11,
      "outputs": [
        {
          "output_type": "execute_result",
          "data": {
            "text/plain": [
              "<matplotlib.image.AxesImage at 0x7ff723597c50>"
            ]
          },
          "metadata": {
            "tags": []
          },
          "execution_count": 11
        },
        {
          "output_type": "display_data",
          "data": {
            "image/png": "[encoded data removed]",
            "text/plain": [
              "<Figure size 432x288 with 1 Axes>"
            ]
          },
          "metadata": {
            "tags": [],
            "needs_background": "light"
          }
        }
      ]
    },
    {
      "cell_type": "code",
      "metadata": {
        "id": "NGTNeWHOpy8J"
      },
      "source": [
        "train_ds,val_ds=random_split(dataset,[50000,10000])    #creating random data\r\n",
        "train=DataLoader(train_ds,128,shuffle=True)         #creating batches of data\r\n",
        "val_loader=DataLoader(val_ds,128)      "
      ],
      "execution_count": 14,
      "outputs": []
    },
    {
      "cell_type": "code",
      "metadata": {
        "id": "8Bqk5Kguu9Aa"
      },
      "source": [
        ""
      ],
      "execution_count": null,
      "outputs": []
    }
  ]
}